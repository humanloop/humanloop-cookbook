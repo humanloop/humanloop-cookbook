{
  "cells": [
    {
      "cell_type": "markdown",
      "id": "c5b81e0e5be92583",
      "metadata": {},
      "source": [
        "# Humanloop RAG Evaluation Walkthrough\n",
        "\n",
        "The goal of this notebook is to demonstrate how to take an existing RAG pipeline and integrate Humanloop in order to:\n",
        "\n",
        "1. Setup logging for both your [Prompt](https://humanloop.com/docs/v5/concepts/prompts) and retriever [Tool](https://humanloop.com/docs/v5/concepts/prompts) so that you can easily track the versions of these components.\n",
        "2. Create a [Dataset](https://humanloop.com/docs/v5/concepts/prompts) and run Evaluations to benchmark the performance of your RAG pipeline.\n",
        "3. Configure [Evaluators](https://humanloop.com/docs/v5/concepts/evaluators) for monitoring your RAG pipeline in production.\n",
        "\n",
        "## What is Humanloop?\n",
        "\n",
        "Humanloop is an interactive development environment designed to streamline the entire lifecycle of LLM app development. It serves as a central hub where AI, Product, and Engineering teams can collaborate on Prompt management, Evaluation and Monitoring workflows.\n",
        "\n",
        "## What is RAG?\n",
        "\n",
        "RAG stands for Retrieval Augmented Generation.\n",
        "\n",
        "- **Retrieval** - Getting the relevant information from a larger data source for a given a query.\n",
        "- **Augmented** - Using the retrieved information as input to an LLM.\n",
        "- **Generation** - Generating an output from the model given the input.\n",
        "\n",
        "In practise, it remains an effective way to exploit LLMs for things like question answering, summarization, and more, where the data source is too large to fit in the context window of the LLM, or where providing the full data source for each query is not cost-effective.\n",
        "\n",
        "## What are the major challenges with RAG?\n",
        "\n",
        "Implementing RAG and other similar flows complicates the process of [Prompt Engineering](https://humanloop.com/blog/prompt-engineering-101) because you expand the design space of your application. There are lots of choices you need to make around the retrieval and Prompt components that can significantly impact the performance of your overall application. For example,\n",
        "\n",
        "- How do you select the data source?\n",
        "- How should it be chunked up and indexed?\n",
        "- What embedding and retrieval model should you use?\n",
        "- How should you combine the retrieved information with the query?\n",
        "- What should your system Prompt be?\n",
        "- Which model should you use?\n",
        "- What should your system message be?\n",
        "  etc...\n",
        "\n",
        "The process of versioning, evaluating and monitoring your pipeline therefore needs to consider both the retrieval and generation components. This is where Humanloop can help.\n"
      ]
    },
    {
      "cell_type": "markdown",
      "id": "53965cd45425bab5",
      "metadata": {},
      "source": [
        "# Example RAG Pipeline\n",
        "\n",
        "We first need a reference RAG implementation. Our use case will be Q&A over a corpus of medical documents.\n",
        "\n",
        "- **Dataset**: we'll use a version of the [MedQA dataset](https://huggingface.co/datasets/bigbio/med_qa) from Hugging Face. This is a multiple choice question answering problem based on the United States Medical License Exams (USMLE), with reference text books that contain the required information to answer the questions.\n",
        "- **Retriever**: we're going to use [Chroma](https://docs.trychroma.com/getting-started) as a simple local vector DB with their default embedding model `all-MiniLM-L6-v2`. You can replace this with your favorite retrieval system.\n",
        "- **Prompt**: **the Prompt will be managed in code**, populated with the users question and the context retrieved from the Retriever and sent to [OpenAI](https://platform.openai.com/docs/api-reference/introduction) to generate the answer.\n",
        "\n",
        "### Where to store your Prompts?\n",
        "\n",
        "Generally speaking, when the engineering/applied AI teams are mainly responsible for managing the details of the Prompt, then the pattern of storing or constructing the Prompt in code works well. This is the pattern we follow in this tutorial.\n",
        "\n",
        "However, if the Product/Domain Expert teams are more involved in Prompt engineering and management, then the Prompt can instead be managed on Humanloop and retrieved or called by your code - this workflow lies outside the scope of this tutorial and we cover it separately.\n"
      ]
    },
    {
      "cell_type": "markdown",
      "id": "da007e8494c60446",
      "metadata": {},
      "source": [
        "## Complete Prerequisites\n",
        "\n",
        "### Install packages\n",
        "\n",
        "We use poetry to manage dependencies:\n"
      ]
    },
    {
      "cell_type": "code",
      "execution_count": 1,
      "id": "5b3e3f74731b50ab",
      "metadata": {},
      "outputs": [
        {
          "name": "stdout",
          "output_type": "stream",
          "text": [
            "\u001b[34mInstalling dependencies from lock file\u001b[39m\n",
            "\n",
            "No dependencies to install or update\n",
            "\n",
            "\u001b[39;1mInstalling\u001b[39;22m the current project: \u001b[36mhumanloop-cookbook\u001b[39m (\u001b[39;1m0.1.0\u001b[39;22m)\n",
            "\u001b[33mWarning: The current project could not be installed: No file/folder found for package humanloop-cookbook\n",
            "If you do not want to install the current project use \u001b[39m\u001b[36m--no-root\u001b[39m\u001b[33m.\n",
            "If you want to use Poetry only for dependency management but not for packaging, you can disable package mode by setting \u001b[39m\u001b[36mpackage-mode = false\u001b[39m\u001b[33m in your pyproject.toml file.\n",
            "In a future version of Poetry this warning will become an error!\u001b[39m\n"
          ]
        }
      ],
      "source": [
        "!poetry install"
      ]
    },
    {
      "cell_type": "markdown",
      "id": "80f74709ea0177a8",
      "metadata": {},
      "source": [
        "### Initialise the SDKs\n",
        "\n",
        "You will need to set your OpenAI API key in the `.env` file in the root of the repo. You can retrieve your API key from your [OpenAI account](https://platform.openai.com/api-keys).\n"
      ]
    },
    {
      "cell_type": "code",
      "execution_count": 2,
      "id": "10fabbfb",
      "metadata": {},
      "outputs": [],
      "source": [
        "IS_DEV = True"
      ]
    },
    {
      "cell_type": "code",
      "execution_count": 3,
      "id": "0320f789",
      "metadata": {},
      "outputs": [],
      "source": [
        "HL_KEY = \"hl_sk_28fbe04c3ebbdd0c51138e1b1d7e824badee2063bb15eb42\" if IS_DEV else \"\"\n",
        "OPENAI_KEY = \"\"\n",
        "HOST = \"neostaging.humanloop.ml\" if IS_DEV else \"http://0.0.0.0:80\""
      ]
    },
    {
      "cell_type": "code",
      "execution_count": 8,
      "id": "47ac94aa",
      "metadata": {},
      "outputs": [
        {
          "ename": "ModuleNotFoundError",
          "evalue": "No module named 'dotenv'",
          "output_type": "error",
          "traceback": [
            "\u001b[0;31m---------------------------------------------------------------------------\u001b[0m",
            "\u001b[0;31mModuleNotFoundError\u001b[0m                       Traceback (most recent call last)",
            "Cell \u001b[0;32mIn[8], line 2\u001b[0m\n\u001b[1;32m      1\u001b[0m \u001b[38;5;66;03m# Set up dependencies\u001b[39;00m\n\u001b[0;32m----> 2\u001b[0m \u001b[38;5;28;01mfrom\u001b[39;00m \u001b[38;5;21;01mdotenv\u001b[39;00m \u001b[38;5;28;01mimport\u001b[39;00m load_dotenv\n\u001b[1;32m      3\u001b[0m \u001b[38;5;28;01mimport\u001b[39;00m \u001b[38;5;21;01mos\u001b[39;00m\n\u001b[1;32m      4\u001b[0m \u001b[38;5;28;01mfrom\u001b[39;00m \u001b[38;5;21;01mchromadb\u001b[39;00m \u001b[38;5;28;01mimport\u001b[39;00m chromadb\n",
            "\u001b[0;31mModuleNotFoundError\u001b[0m: No module named 'dotenv'"
          ]
        }
      ],
      "source": [
        "# Set up dependencies\n",
        "from dotenv import load_dotenv\n",
        "import os\n",
        "from chromadb import chromadb\n",
        "from openai import OpenAI\n",
        "import requests\n",
        "import datetime\n",
        "\n",
        "import pandas as pd\n",
        "\n",
        "# load .env file that contains API keys\n",
        "load_dotenv()\n",
        "\n",
        "# init clients\n",
        "chroma = chromadb.Client()\n",
        "openai = OpenAI(api_key=OPENAI_KEY)\n"
      ]
    },
    {
      "cell_type": "markdown",
      "id": "f74ffee245036bc",
      "metadata": {},
      "source": [
        "### Set up the Vector DB\n",
        "\n",
        "This involves loading the data from the MedQA dataset and embedding the data within a collection in Chroma. This will take a couple of minutes to complete.\n"
      ]
    },
    {
      "cell_type": "code",
      "execution_count": null,
      "id": "15c5158d1d159535",
      "metadata": {},
      "outputs": [],
      "source": [
        "# init collection into which we will add documents\n",
        "collection = chroma.get_or_create_collection(name=\"MedQA\")\n",
        "\n",
        "# load knowledge base\n",
        "knowledge_base = pd.read_parquet(\"../../assets/sources/textbooks.parquet\")\n",
        "knowledge_base = knowledge_base.sample(5, random_state=42)\n",
        "\n",
        "\n",
        "# Add to Chroma - will by default use local vector DB and model all-MiniLM-L6-v2\n",
        "collection.add(\n",
        "    documents=knowledge_base[\"contents\"].to_list(),\n",
        "    ids=knowledge_base[\"id\"].to_list(),\n",
        ")"
      ]
    },
    {
      "cell_type": "markdown",
      "id": "cd43484af0f2f10c",
      "metadata": {},
      "source": [
        "### Define the Prompt\n",
        "\n",
        "We define a simple prompt template that has variables for the question, answer options and retrieved data.\n",
        "\n",
        "It is generally good practise to define the Prompt details that impact the behaviour of the model in one place separate to your application logic.\n"
      ]
    },
    {
      "cell_type": "code",
      "execution_count": 22,
      "id": "187af8c5",
      "metadata": {},
      "outputs": [],
      "source": [
        "model = \"gpt-3.5-turbo\"\n",
        "temperature = 0\n",
        "template = [\n",
        "    {\n",
        "        \"role\": \"system\",\n",
        "        \"content\": \"\"\"Answer the following question factually.\n",
        "\n",
        "Question: {{question}}\n",
        "\n",
        "Options:\n",
        "- {{option_A}}\n",
        "- {{option_B}}\n",
        "- {{option_C}}\n",
        "- {{option_D}}\n",
        "- {{option_E}}\n",
        "\n",
        "---\n",
        "\n",
        "Here is some retrieved information that might be helpful.\n",
        "Retrieved data:\n",
        "{{retrieved_data}}\n",
        "\n",
        "---\n",
        "\n",
        "Give you answer in 3 sections using the following format. Do not include the quotes or the brackets. Do include the \"---\" separators.\n",
        "```\n",
        "<chosen option verbatim>\n",
        "---\n",
        "<clear explanation of why the option is correct and why the other options are incorrect. keep it ELI5.>\n",
        "---\n",
        "<quote relevant information snippets from the retrieved data verbatim. every line here should be directly copied from the retrieved data>\n",
        "```\n",
        "\"\"\",\n",
        "    }\n",
        "]\n",
        "\n",
        "\n",
        "def populate_template(template: list, inputs: dict[str, str]) -> list:\n",
        "    \"\"\"Populate a template with input variables.\"\"\"\n",
        "    messages = []\n",
        "    for i, template_message in enumerate(template):\n",
        "        content = template_message[\"content\"]\n",
        "        for key, value in inputs.items():\n",
        "            content = content.replace(\"{{\" + key + \"}}\", value)\n",
        "        message = {**template_message, \"content\": content}\n",
        "        messages.append(message)\n",
        "    return messages\n"
      ]
    },
    {
      "cell_type": "markdown",
      "id": "e86410ee6d885c4b",
      "metadata": {},
      "source": [
        "## Define the RAG Pipeline\n",
        "\n",
        "Now we provide the reference RAG pipeline using Chroma and OpenAI that takes a question and returns an answer. This is ultimately what we will evaluate.\n"
      ]
    },
    {
      "cell_type": "code",
      "execution_count": 23,
      "id": "53c95ad9790ade59",
      "metadata": {},
      "outputs": [],
      "source": [
        "def retrieval_tool(question: str) -> str:\n",
        "    \"\"\"Retrieve most relevant document from the vector db (Chroma) for the question.\"\"\"\n",
        "    response = collection.query(query_texts=[question], n_results=1)\n",
        "    retrieved_doc = response[\"documents\"][0][0]\n",
        "    return retrieved_doc\n",
        "\n",
        "\n",
        "def ask_question(inputs: dict[str, str]) -> str:\n",
        "    \"\"\"Ask a question and get an answer using a simple RAG pipeline\"\"\"\n",
        "\n",
        "    # Retrieve context\n",
        "    retrieved_data = retrieval_tool(inputs[\"question\"])\n",
        "    inputs = {**inputs, \"retrieved_data\": retrieved_data}\n",
        "\n",
        "    # Populate the Prompt template\n",
        "    messages = populate_template(template, inputs)\n",
        "\n",
        "    # Call OpenAI to get response\n",
        "    chat_completion = openai.chat.completions.create(\n",
        "        model=model,\n",
        "        temperature=temperature,\n",
        "        messages=messages,\n",
        "    )\n",
        "    return chat_completion.choices[0].message.content"
      ]
    },
    {
      "cell_type": "code",
      "execution_count": null,
      "id": "da57f2c4b4533a09",
      "metadata": {},
      "outputs": [],
      "source": [
        "# Test the pipeline\n",
        "\n",
        "print(\n",
        "    ask_question(\n",
        "        {\n",
        "            \"question\": \"A 34-year-old male suffers from inherited hemophilia A. He and his wife have three unaffected daughters. What is the probability that the second daughter is a carrier of the disease?\",\n",
        "            \"option_A\": \"0%\",\n",
        "            \"option_B\": \"25%\",\n",
        "            \"option_C\": \"50%\",\n",
        "            \"option_D\": \"75%\",\n",
        "            \"option_E\": \"100%\",\n",
        "        }\n",
        "    )\n",
        ")"
      ]
    },
    {
      "cell_type": "markdown",
      "id": "f9fc3cffe1b5cb99",
      "metadata": {},
      "source": [
        "# Humanloop Integration\n",
        "\n",
        "We now integrate Humanloop into the RAG pipeline to first enable logging and then to trigger evaluations against a dataset.\n"
      ]
    },
    {
      "cell_type": "markdown",
      "id": "5272f102",
      "metadata": {},
      "source": [
        "## Flow V1 Experiment\n"
      ]
    },
    {
      "cell_type": "code",
      "execution_count": 25,
      "id": "d208b64c",
      "metadata": {},
      "outputs": [],
      "source": [
        "import inspect\n",
        "import uuid\n",
        "\n",
        "\n",
        "def ask_question(\n",
        "    inputs: dict[str, str],\n",
        "    datapoint_id: str | None = None,\n",
        "    evaluation_id: str | None = None,\n",
        ") -> str:\n",
        "    \"\"\"Ask a question and get an answer using a simple RAG pipeline\"\"\"\n",
        "    trace_request = requests.post(\n",
        "        f\"{HOST}/v5/flows/log\",\n",
        "        headers={\"X-API-KEY\": HL_KEY},\n",
        "        json={\n",
        "            \"trace_id\": uuid.uuid4().hex,\n",
        "            \"flow\": {\n",
        "                \"attributes\": {\n",
        "                    \"description\": \"Answering medical questions\",\n",
        "                    \"chroma\": 1,\n",
        "                }\n",
        "            },\n",
        "            \"path\": \"evals_demo/MedQA Flow\",\n",
        "            \"source_datapoint_id\": datapoint_id,\n",
        "            \"evaluation_id\": evaluation_id,\n",
        "        },\n",
        "    ).json()\n",
        "    print(trace_request)\n",
        "    trace_id = trace_request[\"id\"]\n",
        "\n",
        "    start_time = datetime.datetime.now()\n",
        "\n",
        "    # Retrieve context\n",
        "    retrieved_data = retrieval_tool(inputs[\"question\"])\n",
        "\n",
        "    end_time = datetime.datetime.now()\n",
        "\n",
        "    # Log the context and retriever details to your Humanloop Tool\n",
        "    session_id = uuid.uuid4().hex\n",
        "    requests.post(\n",
        "        f\"{HOST}/v5/tools/log\",\n",
        "        json={\n",
        "            \"path\": \"evals_demo/medqa-retrieval\",\n",
        "            \"tool\": {\n",
        "                \"function\": {\n",
        "                    \"name\": \"retrieval_tool\",\n",
        "                    \"description\": \"Retrieval tool for MedQA.\",\n",
        "                },\n",
        "                \"source_code\": inspect.getsource(retrieval_tool),\n",
        "            },\n",
        "            \"output\": retrieved_data,\n",
        "            \"session_id\": session_id,\n",
        "            \"trace_id\": trace_id,\n",
        "            \"start_time\": start_time.isoformat(),\n",
        "            \"end_time\": end_time.isoformat(),\n",
        "        },\n",
        "        headers={\"X-API-Key\": HL_KEY},\n",
        "    )\n",
        "\n",
        "    # Populate the Prompt template\n",
        "    inputs = {**inputs, \"retrieved_data\": retrieved_data}\n",
        "    messages = populate_template(template, inputs)\n",
        "\n",
        "    # Call OpenAI to get a response\n",
        "    start_time = datetime.datetime.now()\n",
        "\n",
        "    chat_completion = openai.chat.completions.create(\n",
        "        model=model,\n",
        "        temperature=temperature,\n",
        "        messages=messages,\n",
        "    )\n",
        "    message = chat_completion.choices[0].message\n",
        "    answer = message.content\n",
        "\n",
        "    end_time = datetime.datetime.now()\n",
        "\n",
        "    requests.post(\n",
        "        f\"{HOST}/v5/prompts/log\",\n",
        "        headers={\"X-API-Key\": HL_KEY},\n",
        "        json={\n",
        "            \"path\": \"evals_demo/medqa-answer\",\n",
        "            \"prompt\": {\n",
        "                \"model\": model,\n",
        "                \"temperature\": temperature,\n",
        "                \"template\": template,\n",
        "            },\n",
        "            \"inputs\": inputs,\n",
        "            \"output\": answer,\n",
        "            \"output_message\": message.to_dict(),\n",
        "            \"session_id\": session_id,\n",
        "            \"trace_id\": trace_id,\n",
        "            \"source_datapoint_id\": datapoint_id,\n",
        "            \"evaluation_id\": evaluation_id,\n",
        "            \"start_time\": start_time.isoformat(),\n",
        "            \"end_time\": end_time.isoformat(),\n",
        "        },\n",
        "    )\n",
        "\n",
        "    try:\n",
        "        requests.patch(\n",
        "            f\"{HOST}/v5/flows/log/{trace_id}\",\n",
        "            headers={\"X-API-KEY\": HL_KEY},\n",
        "            json={\n",
        "                \"inputs\": inputs,\n",
        "                \"output\": answer,\n",
        "                \"status\": \"complete\",\n",
        "            },\n",
        "            timeout=2,\n",
        "        )\n",
        "    except:\n",
        "        pass\n",
        "\n",
        "    return answer"
      ]
    },
    {
      "cell_type": "markdown",
      "id": "78969c2f",
      "metadata": {},
      "source": [
        "## Create a Dataset\n",
        "\n",
        "Here we will create a Dataset on Humanloop using the MedQA test dataset. Alternatively you can create a data from Logs on Humanloop, or upload via the UI - see our [guide](https://humanloop.com/docs/v5/evaluation/guides/create-dataset).\n",
        "\n",
        "You can then effectively version control your Dataset centrally on Humanloop and hook into it for Evaluation workflows in code and via the UI.\n"
      ]
    },
    {
      "cell_type": "code",
      "execution_count": 26,
      "id": "87c70e0c",
      "metadata": {},
      "outputs": [],
      "source": [
        "def upload_dataset_to_humanloop():\n",
        "    df = pd.read_json(\"../../assets/datapoints.jsonl\", lines=True)\n",
        "\n",
        "    datapoints = [row.to_dict() for _i, row in df.iterrows()][0:20]\n",
        "\n",
        "    response = requests.post(\n",
        "        f\"{HOST}/v5/datasets\",\n",
        "        json={\n",
        "            \"path\": \"evals_demo/medqa-test\",\n",
        "            \"commit_message\": f\"Added {len(datapoints)} datapoints from MedQA test dataset.\",\n",
        "            \"datapoints\": datapoints,\n",
        "        },\n",
        "        headers={\"X-API-Key\": HL_KEY},\n",
        "    )\n",
        "    print(response.json())\n",
        "    return response.json()[\"id\"]\n"
      ]
    },
    {
      "cell_type": "code",
      "execution_count": null,
      "id": "deae78c4",
      "metadata": {},
      "outputs": [],
      "source": [
        "dataset_id = upload_dataset_to_humanloop()"
      ]
    },
    {
      "cell_type": "markdown",
      "id": "3ffb5c76",
      "metadata": {},
      "source": [
        "## Set up Evaluators\n",
        "\n",
        "Here we will upload some Evaluators defined in code in `assets/evaluators/` so that Humanloop can manage running these for Evaluations (and later for Monitoring!)\n",
        "\n",
        "Alternatively you can define AI, Code and Human based Evaluators via the UI - see the relevant `How-to guides` on [Evaluations](https://humanloop.com/docs/v5/evaluation/overview) for creating Evaluators of different kinds.\n",
        "\n",
        "Further you can choose to not host the Evaluator on Humanloop and instead use your own runtime and instead post the results as part of the Evaluation. This can be useful for more complex workflows that require custom dependencies or resources, but lies outside the scope of this tutorial.\n"
      ]
    },
    {
      "cell_type": "code",
      "execution_count": 28,
      "id": "0dcb9069",
      "metadata": {},
      "outputs": [],
      "source": [
        "def upload_evaluators():\n",
        "    for evaluator_name, return_type in [\n",
        "        (\"exact_match\", \"boolean\"),\n",
        "        (\"levenshtein\", \"number\"),\n",
        "    ]:\n",
        "        with open(f\"../../assets/evaluators/{evaluator_name}.py\", \"r\") as f:\n",
        "            code = f.read()\n",
        "\n",
        "        requests.post(\n",
        "            f\"{HOST}/v5/evaluators\",\n",
        "            json={\n",
        "                \"path\": f\"evals_demo/{evaluator_name}\",\n",
        "                \"spec\": {\n",
        "                    \"evaluator_type\": \"python\",\n",
        "                    \"arguments_type\": \"target_required\",\n",
        "                    \"return_type\": return_type,\n",
        "                    \"code\": code,\n",
        "                },\n",
        "                \"commit_message\": f\"New version from {evaluator_name}.py\",\n",
        "            },\n",
        "            headers={\"Content-Type\": \"application/json\", \"X-API-Key\": HL_KEY},\n",
        "        )"
      ]
    },
    {
      "cell_type": "code",
      "execution_count": 29,
      "id": "8138e15d",
      "metadata": {},
      "outputs": [],
      "source": [
        "upload_evaluators()"
      ]
    },
    {
      "cell_type": "markdown",
      "id": "8b48f645",
      "metadata": {},
      "source": [
        "## Run Evaluation\n",
        "\n",
        "Now we can start to trigger Evaluations on Humanloop using our Dataset and Evaluators:\n"
      ]
    },
    {
      "cell_type": "code",
      "execution_count": null,
      "id": "12405c95",
      "metadata": {},
      "outputs": [],
      "source": [
        "from tqdm import tqdm\n",
        "\n",
        "\n",
        "# Create the Evaluation specifying the Dataset and Evaluators to use\n",
        "evaluation_id = requests.post(\n",
        "    f\"{HOST}/v5/evaluations\",\n",
        "    json={\n",
        "        \"dataset\": {\"path\": \"evals_demo/medqa-test\"},\n",
        "        \"evaluators\": [\n",
        "            {\"path\": \"evals_demo/exact_match\"},\n",
        "            {\"path\": \"evals_demo/levenshtein\"},\n",
        "        ],\n",
        "    },\n",
        "    headers={\"X-API-Key\": HL_KEY},\n",
        ").json()[\"id\"]\n",
        "print(f\"Evaluation created: {evaluation_id}\")\n",
        "\n",
        "\n",
        "def populate_evaluation():\n",
        "    \"\"\"Run a variation of your Pipeline over the Dataset to populate results\"\"\"\n",
        "    datapoints_response = requests.get(\n",
        "        f\"{HOST}/v5/datasets/{dataset_id}?include_datapoints=true\",\n",
        "        headers={\"X-API-KEY\": HL_KEY},\n",
        "    ).json()\n",
        "    for datapoint in tqdm(datapoints_response[\"datapoints\"]):\n",
        "        ask_question(\n",
        "            inputs=datapoint[\"inputs\"],\n",
        "            datapoint_id=datapoint[\"id\"],\n",
        "            evaluation_id=evaluation_id,\n",
        "        )\n"
      ]
    },
    {
      "cell_type": "code",
      "execution_count": null,
      "id": "c951317c",
      "metadata": {},
      "outputs": [],
      "source": [
        "populate_evaluation()"
      ]
    },
    {
      "cell_type": "markdown",
      "id": "426e8c98",
      "metadata": {},
      "source": []
    },
    {
      "cell_type": "markdown",
      "id": "a21dcd8b",
      "metadata": {},
      "source": [
        "Mark Traces as complete so evaluation can run.\n"
      ]
    },
    {
      "cell_type": "markdown",
      "id": "a4dd1e7b7e542c45",
      "metadata": {},
      "source": [
        "## Get Results and URL\n",
        "\n",
        "We can not get the aggregate results via the API and the URL to navigate to the Evaluation in the Humanloop UI.\n"
      ]
    },
    {
      "cell_type": "code",
      "execution_count": 16,
      "id": "e22e0558dc082de6",
      "metadata": {},
      "outputs": [],
      "source": [
        "evaluation_response = requests.get(\n",
        "    f\"{HOST}/v5/evaluations/{evaluation_id}\",\n",
        "    headers={\"X-API-KEY\": HL_KEY},\n",
        ")\n",
        "print(\"URL: \", evaluation_response.url)"
      ]
    },
    {
      "cell_type": "code",
      "execution_count": null,
      "id": "eae607ec",
      "metadata": {},
      "outputs": [],
      "source": []
    }
  ],
  "metadata": {
    "kernelspec": {
      "display_name": "Python 3",
      "language": "python",
      "name": "python3"
    },
    "language_info": {
      "codemirror_mode": {
        "name": "ipython",
        "version": 3
      },
      "file_extension": ".py",
      "mimetype": "text/x-python",
      "name": "python",
      "nbconvert_exporter": "python",
      "pygments_lexer": "ipython3",
      "version": "3.12.0"
    }
  },
  "nbformat": 4,
  "nbformat_minor": 5
}
