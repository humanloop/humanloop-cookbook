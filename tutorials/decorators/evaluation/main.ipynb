{
 "cells": [
  {
   "cell_type": "markdown",
   "metadata": {},
   "source": [
    "# Evaluating Files declared in code\n"
   ]
  },
  {
   "cell_type": "markdown",
   "metadata": {},
   "source": [
    "This tutorial highlights how to combine Humanloop decorated files.\n"
   ]
  },
  {
   "cell_type": "markdown",
   "metadata": {},
   "source": [
    "### 1. Setting up imports\n"
   ]
  },
  {
   "cell_type": "code",
   "execution_count": 1,
   "metadata": {},
   "outputs": [
    {
     "data": {
      "text/plain": [
       "True"
      ]
     },
     "execution_count": 1,
     "metadata": {},
     "output_type": "execute_result"
    }
   ],
   "source": [
    "import os\n",
    "\n",
    "from dotenv import load_dotenv\n",
    "from humanloop import Humanloop\n",
    "import chromadb\n",
    "from openai import OpenAI\n",
    "import pandas as pd\n",
    "\n",
    "from levenshtein import compare_log_and_target\n",
    "from exact_match import exact_match\n",
    "\n",
    "\n",
    "load_dotenv()"
   ]
  },
  {
   "cell_type": "markdown",
   "metadata": {},
   "source": [
    "### 2. Instantiating the Humanloop client\n"
   ]
  },
  {
   "cell_type": "code",
   "execution_count": 2,
   "metadata": {},
   "outputs": [],
   "source": [
    "humanloop = Humanloop(api_key=os.getenv(\"HL_API_KEY\"), base_url=\"http://0.0.0.0:80/v5\")"
   ]
  },
  {
   "cell_type": "markdown",
   "metadata": {},
   "source": [
    "### 3. Instantiating the vector database\n"
   ]
  },
  {
   "cell_type": "code",
   "execution_count": 3,
   "metadata": {},
   "outputs": [],
   "source": [
    "chroma = chromadb.chromadb.Client()\n",
    "collection = chroma.get_or_create_collection(name=\"MedQA\")\n",
    "\n",
    "# init collection into which we will add documents\n",
    "knowledge_base = pd.read_parquet(\"../../../assets/sources/textbooks.parquet\")\n",
    "knowledge_base = knowledge_base.sample(5, random_state=42)\n",
    "collection.add(\n",
    "    documents=knowledge_base[\"contents\"].to_list(),\n",
    "    ids=knowledge_base[\"id\"].to_list(),\n",
    ")"
   ]
  },
  {
   "cell_type": "markdown",
   "metadata": {},
   "source": [
    "### 4. Loading the evaluation dataset\n"
   ]
  },
  {
   "cell_type": "code",
   "execution_count": 4,
   "metadata": {},
   "outputs": [],
   "source": [
    "datapoints_df = pd.read_json(\"../../../assets/datapoints.jsonl\", lines=True)\n",
    "datapoints = [row.to_dict() for _, row in datapoints_df.iterrows()][:20]"
   ]
  },
  {
   "cell_type": "markdown",
   "metadata": {},
   "source": [
    "### 5. Declare Humanloop Files via code\n"
   ]
  },
  {
   "cell_type": "code",
   "execution_count": 5,
   "metadata": {},
   "outputs": [],
   "source": [
    "TEMPLATE = \"\"\"Answer the following question factually.\n",
    "\n",
    "Question: {question}\n",
    "\n",
    "Options:\n",
    "- {option_A}\n",
    "- {option_B}\n",
    "- {option_C}\n",
    "- {option_D}\n",
    "- {option_E}\n",
    "\n",
    "---\n",
    "\n",
    "Here is some retrieved information that might be helpful.\n",
    "Retrieved data:\n",
    "{retrieved_data}\n",
    "\n",
    "---\n",
    "\n",
    "Give you answer in 3 sections using the following format. Do not include the quotes or the brackets. Do include the \"---\" separators.\n",
    "```\n",
    "<chosen option verbatim>\n",
    "---\n",
    "<clear explanation of why the option is correct and why the other options are incorrect. keep it ELI5.>\n",
    "---\n",
    "<quote relevant information snippets from the retrieved data verbatim. every line here should be directly copied from the retrieved data>\n",
    "```\n",
    "\"\"\""
   ]
  },
  {
   "cell_type": "code",
   "execution_count": 6,
   "metadata": {},
   "outputs": [],
   "source": [
    "@humanloop.tool(\n",
    "    path=\"Evaluations SDK Demo/Retrieval Tool\",\n",
    ")\n",
    "def retrieval_tool(question: str) -> str:\n",
    "    \"\"\"Retrieve most relevant document from the vector db (Chroma) for the question.\"\"\"\n",
    "    response = collection.query(query_texts=[question], n_results=1)\n",
    "    retrieved_doc = response[\"documents\"][0][0]\n",
    "    return retrieved_doc\n",
    "\n",
    "\n",
    "@humanloop.prompt(\n",
    "    path=\"Evaluations SDK Demo/MedQA Answer\",\n",
    "    model=\"gpt-4o\",\n",
    "    template=TEMPLATE,\n",
    "    tools=[retrieval_tool.json_schema],\n",
    ")\n",
    "def ask_model(\n",
    "    question: str,\n",
    "    option_A: str,\n",
    "    option_B: str,\n",
    "    option_C: str,\n",
    "    option_D: str,\n",
    "    option_E: str,\n",
    ") -> str:\n",
    "    \"\"\"Ask a question and get an answer using a simple RAG pipeline\"\"\"\n",
    "    openai = OpenAI(api_key=os.getenv(\"OPENAI_API_KEY\"))\n",
    "\n",
    "    # Retrieve context\n",
    "    retrieved_data = retrieval_tool(question)\n",
    "    inputs = {\n",
    "        \"question\": question,\n",
    "        \"option_A\": option_A,\n",
    "        \"option_B\": option_B,\n",
    "        \"option_C\": option_C,\n",
    "        \"option_D\": option_D,\n",
    "        \"option_E\": option_E,\n",
    "        \"retrieved_data\": retrieved_data,\n",
    "    }\n",
    "\n",
    "    # Populate the Prompt template\n",
    "    messages = [\n",
    "        {\n",
    "            \"role\": \"user\",\n",
    "            \"content\": TEMPLATE.format(**inputs),\n",
    "        }\n",
    "    ]\n",
    "\n",
    "    # Call OpenAI to get response\n",
    "    chat_completion = openai.chat.completions.create(\n",
    "        model=\"gpt-4o\",\n",
    "        temperature=0,\n",
    "        messages=messages,\n",
    "    )\n",
    "    return chat_completion.choices[0].message.content\n",
    "\n",
    "\n",
    "@humanloop.flow(\n",
    "    path=\"Evaluations SDK Demo/MedQA Answer Flow\",\n",
    "    attributes={\n",
    "        \"prompt\": {\n",
    "            \"model\": \"gpt-4o\",\n",
    "            \"environment\": \"evaluation\",\n",
    "        }\n",
    "    },\n",
    ")\n",
    "def entrypoint(\n",
    "    question: str,\n",
    "    option_A: str,\n",
    "    option_B: str,\n",
    "    option_C: str,\n",
    "    option_D: str,\n",
    "    option_E: str,\n",
    "):\n",
    "    return ask_model(\n",
    "        question=question,\n",
    "        option_A=option_A,\n",
    "        option_B=option_B,\n",
    "        option_C=option_C,\n",
    "        option_D=option_D,\n",
    "        option_E=option_E,\n",
    "    )"
   ]
  },
  {
   "cell_type": "markdown",
   "metadata": {},
   "source": [
    "### 6. Evaluate the Flow\n"
   ]
  },
  {
   "cell_type": "code",
   "execution_count": 7,
   "metadata": {},
   "outputs": [
    {
     "name": "stderr",
     "output_type": "stream",
     "text": [
      "\u001b[96mEvaluating your flow function corresponding to `Evaluations SDK Demo/MedQA Answer Flow` on Humanloop\u001b[0m \n",
      "\n",
      "\n",
      "\n",
      "\u001b[96mNavigate to your Evaluation:\u001b[0m\n",
      "http://localhost:3000/project/fl_f1LKeioSdpBr6vUXfFMgQ/evaluations/evr_TdSSqdd2e6SH48YI6bsT4/stats\n",
      "\n",
      "\u001b[96mFlow Version ID: flv_GnVlk3RpLWCcFWCJN1flF\u001b[0m\n",
      "\u001b[96mRun ID: rn_0Pg7ctzQY42KOrFw1yB4Q\u001b[0m\n",
      "\u001b[96m\n",
      "Running 'MedQA Answer Flow' over the Dataset 'Dataset' using 8 workers\u001b[0m \n"
     ]
    },
    {
     "name": "stdout",
     "output_type": "stream",
     "text": [
      "HEY {'source_datapoint_id': 'dp_3tm7OsWbudYyOb9507EEq11FcUk', 'upload_callback': <function run_eval.<locals>.process_datapoint.<locals>.upload_callback at 0x1755e0280>, 'file_id': 'fl_f1LKeioSdpBr6vUXfFMgQ', 'run_id': 'rn_0Pg7ctzQY42KOrFw1yB4Q', 'path': 'Evaluations SDK Demo/MedQA Answer Flow'}\n",
      "HEY {'source_datapoint_id': 'dp_Z98R2axKHmCtQl0WMVdMm5WTpN2', 'upload_callback': <function run_eval.<locals>.process_datapoint.<locals>.upload_callback at 0x315488c10>, 'file_id': 'fl_f1LKeioSdpBr6vUXfFMgQ', 'run_id': 'rn_0Pg7ctzQY42KOrFw1yB4Q', 'path': 'Evaluations SDK Demo/MedQA Answer Flow'}\n",
      "HEY {'source_datapoint_id': 'dp_UoUeDhkka2HBg2y0qAeF4hcJiWs', 'upload_callback': <function run_eval.<locals>.process_datapoint.<locals>.upload_callback at 0x1755e00d0>, 'file_id': 'fl_f1LKeioSdpBr6vUXfFMgQ', 'run_id': 'rn_0Pg7ctzQY42KOrFw1yB4Q', 'path': 'Evaluations SDK Demo/MedQA Answer Flow'}\n",
      "HEY {'source_datapoint_id': 'dp_LQNwHabGSHaCuv2ttPguQhBNd5O', 'upload_callback': <function run_eval.<locals>.process_datapoint.<locals>.upload_callback at 0x1755e0550>, 'file_id': 'fl_f1LKeioSdpBr6vUXfFMgQ', 'run_id': 'rn_0Pg7ctzQY42KOrFw1yB4Q', 'path': 'Evaluations SDK Demo/MedQA Answer Flow'}\n",
      "HEY {'source_datapoint_id': 'dp_Gv7FrTke3v7NgOYqLqf8DdBFY0O', 'upload_callback': <function run_eval.<locals>.process_datapoint.<locals>.upload_callback at 0x315488e50>, 'file_id': 'fl_f1LKeioSdpBr6vUXfFMgQ', 'run_id': 'rn_0Pg7ctzQY42KOrFw1yB4Q', 'path': 'Evaluations SDK Demo/MedQA Answer Flow'}\n",
      "HEY {'source_datapoint_id': 'dp_F9poILP7T82TqcOCcr0keiDqZhK', 'upload_callback': <function run_eval.<locals>.process_datapoint.<locals>.upload_callback at 0x17560cd30>, 'file_id': 'fl_f1LKeioSdpBr6vUXfFMgQ', 'run_id': 'rn_0Pg7ctzQY42KOrFw1yB4Q', 'path': 'Evaluations SDK Demo/MedQA Answer Flow'}\n",
      "HEY {'source_datapoint_id': 'dp_LYLApZNm2dJBK4JRXdfqZxApJRy', 'upload_callback': <function run_eval.<locals>.process_datapoint.<locals>.upload_callback at 0x1755e03a0>, 'file_id': 'fl_f1LKeioSdpBr6vUXfFMgQ', 'run_id': 'rn_0Pg7ctzQY42KOrFw1yB4Q', 'path': 'Evaluations SDK Demo/MedQA Answer Flow'}\n",
      "HEY {'source_datapoint_id': 'dp_45KUmhhJS7HVQvZLEJigzqvEcvV', 'upload_callback': <function run_eval.<locals>.process_datapoint.<locals>.upload_callback at 0x17560ce50>, 'file_id': 'fl_f1LKeioSdpBr6vUXfFMgQ', 'run_id': 'rn_0Pg7ctzQY42KOrFw1yB4Q', 'path': 'Evaluations SDK Demo/MedQA Answer Flow'}\n",
      "HEY {'source_datapoint_id': 'dp_LYLApZNm2dJBK4JRXdfqZxApJRy', 'upload_callback': <function run_eval.<locals>.process_datapoint.<locals>.upload_callback at 0x1755e03a0>, 'file_id': 'fl_f1LKeioSdpBr6vUXfFMgQ', 'run_id': 'rn_0Pg7ctzQY42KOrFw1yB4Q', 'path': 'Evaluations SDK Demo/MedQA Answer Flow'}\n",
      "HEY {'source_datapoint_id': 'dp_LYLApZNm2dJBK4JRXdfqZxApJRy', 'upload_callback': <function run_eval.<locals>.process_datapoint.<locals>.upload_callback at 0x1755e03a0>, 'file_id': 'fl_f1LKeioSdpBr6vUXfFMgQ', 'run_id': 'rn_0Pg7ctzQY42KOrFw1yB4Q', 'path': 'Evaluations SDK Demo/MedQA Answer Flow'}\n",
      "HEY {'source_datapoint_id': 'dp_LvlYMJxdrO6n5oVARTgwydL5b8N', 'upload_callback': <function run_eval.<locals>.process_datapoint.<locals>.upload_callback at 0x3154bd820>, 'file_id': 'fl_f1LKeioSdpBr6vUXfFMgQ', 'run_id': 'rn_0Pg7ctzQY42KOrFw1yB4Q', 'path': 'Evaluations SDK Demo/MedQA Answer Flow'}\n",
      "HEY {'source_datapoint_id': 'dp_Z98R2axKHmCtQl0WMVdMm5WTpN2', 'upload_callback': <function run_eval.<locals>.process_datapoint.<locals>.upload_callback at 0x315488c10>, 'file_id': 'fl_f1LKeioSdpBr6vUXfFMgQ', 'run_id': 'rn_0Pg7ctzQY42KOrFw1yB4Q', 'path': 'Evaluations SDK Demo/MedQA Answer Flow'}\n",
      "HEY {'source_datapoint_id': 'dp_Z98R2axKHmCtQl0WMVdMm5WTpN2', 'upload_callback': <function run_eval.<locals>.process_datapoint.<locals>.upload_callback at 0x315488c10>, 'file_id': 'fl_f1LKeioSdpBr6vUXfFMgQ', 'run_id': 'rn_0Pg7ctzQY42KOrFw1yB4Q', 'path': 'Evaluations SDK Demo/MedQA Answer Flow'}\n",
      "HEY {'source_datapoint_id': 'dp_30Cl31UXInRI8ofyUnoBFQqiyzb', 'upload_callback': <function run_eval.<locals>.process_datapoint.<locals>.upload_callback at 0x3144fad30>, 'file_id': 'fl_f1LKeioSdpBr6vUXfFMgQ', 'run_id': 'rn_0Pg7ctzQY42KOrFw1yB4Q', 'path': 'Evaluations SDK Demo/MedQA Answer Flow'}\n",
      "HEY {'source_datapoint_id': 'dp_F9poILP7T82TqcOCcr0keiDqZhK', 'upload_callback': <function run_eval.<locals>.process_datapoint.<locals>.upload_callback at 0x17560cd30>, 'file_id': 'fl_f1LKeioSdpBr6vUXfFMgQ', 'run_id': 'rn_0Pg7ctzQY42KOrFw1yB4Q', 'path': 'Evaluations SDK Demo/MedQA Answer Flow'}\n",
      "HEY {'source_datapoint_id': 'dp_F9poILP7T82TqcOCcr0keiDqZhK', 'upload_callback': <function run_eval.<locals>.process_datapoint.<locals>.upload_callback at 0x17560cd30>, 'file_id': 'fl_f1LKeioSdpBr6vUXfFMgQ', 'run_id': 'rn_0Pg7ctzQY42KOrFw1yB4Q', 'path': 'Evaluations SDK Demo/MedQA Answer Flow'}\n",
      "HEY {'source_datapoint_id': 'dp_YsPZGSgf3L8sgX45coHU3WxBHQ3', 'upload_callback': <function run_eval.<locals>.process_datapoint.<locals>.upload_callback at 0x175ef45e0>, 'file_id': 'fl_f1LKeioSdpBr6vUXfFMgQ', 'run_id': 'rn_0Pg7ctzQY42KOrFw1yB4Q', 'path': 'Evaluations SDK Demo/MedQA Answer Flow'}\n",
      "HEY {'source_datapoint_id': 'dp_UoUeDhkka2HBg2y0qAeF4hcJiWs', 'upload_callback': <function run_eval.<locals>.process_datapoint.<locals>.upload_callback at 0x1755e00d0>, 'file_id': 'fl_f1LKeioSdpBr6vUXfFMgQ', 'run_id': 'rn_0Pg7ctzQY42KOrFw1yB4Q', 'path': 'Evaluations SDK Demo/MedQA Answer Flow'}\n",
      "HEY {'source_datapoint_id': 'dp_UoUeDhkka2HBg2y0qAeF4hcJiWs', 'upload_callback': <function run_eval.<locals>.process_datapoint.<locals>.upload_callback at 0x1755e00d0>, 'file_id': 'fl_f1LKeioSdpBr6vUXfFMgQ', 'run_id': 'rn_0Pg7ctzQY42KOrFw1yB4Q', 'path': 'Evaluations SDK Demo/MedQA Answer Flow'}\n",
      "HEY {'source_datapoint_id': 'dp_3tm7OsWbudYyOb9507EEq11FcUk', 'upload_callback': <function run_eval.<locals>.process_datapoint.<locals>.upload_callback at 0x1755e0280>, 'file_id': 'fl_f1LKeioSdpBr6vUXfFMgQ', 'run_id': 'rn_0Pg7ctzQY42KOrFw1yB4Q', 'path': 'Evaluations SDK Demo/MedQA Answer Flow'}\n",
      "HEY {'source_datapoint_id': 'dp_3tm7OsWbudYyOb9507EEq11FcUk', 'upload_callback': <function run_eval.<locals>.process_datapoint.<locals>.upload_callback at 0x1755e0280>, 'file_id': 'fl_f1LKeioSdpBr6vUXfFMgQ', 'run_id': 'rn_0Pg7ctzQY42KOrFw1yB4Q', 'path': 'Evaluations SDK Demo/MedQA Answer Flow'}\n",
      "HEY {'source_datapoint_id': 'dp_X9HRnEUZ772uROsksL6WZsMfOJV', 'upload_callback': <function run_eval.<locals>.process_datapoint.<locals>.upload_callback at 0x175f0b430>, 'file_id': 'fl_f1LKeioSdpBr6vUXfFMgQ', 'run_id': 'rn_0Pg7ctzQY42KOrFw1yB4Q', 'path': 'Evaluations SDK Demo/MedQA Answer Flow'}\n",
      "HEY {'source_datapoint_id': 'dp_Vlz2K6t5Q4itwAo4jQvKIy0JVGt', 'upload_callback': <function run_eval.<locals>.process_datapoint.<locals>.upload_callback at 0x175f08280>, 'file_id': 'fl_f1LKeioSdpBr6vUXfFMgQ', 'run_id': 'rn_0Pg7ctzQY42KOrFw1yB4Q', 'path': 'Evaluations SDK Demo/MedQA Answer Flow'}\n",
      "HEY {'source_datapoint_id': 'dp_LQNwHabGSHaCuv2ttPguQhBNd5O', 'upload_callback': <function run_eval.<locals>.process_datapoint.<locals>.upload_callback at 0x1755e0550>, 'file_id': 'fl_f1LKeioSdpBr6vUXfFMgQ', 'run_id': 'rn_0Pg7ctzQY42KOrFw1yB4Q', 'path': 'Evaluations SDK Demo/MedQA Answer Flow'}\n",
      "HEY {'source_datapoint_id': 'dp_LQNwHabGSHaCuv2ttPguQhBNd5O', 'upload_callback': <function run_eval.<locals>.process_datapoint.<locals>.upload_callback at 0x1755e0550>, 'file_id': 'fl_f1LKeioSdpBr6vUXfFMgQ', 'run_id': 'rn_0Pg7ctzQY42KOrFw1yB4Q', 'path': 'Evaluations SDK Demo/MedQA Answer Flow'}\n",
      "HEY {'source_datapoint_id': 'dp_AINWMJYmNoYgz31PafPBms0Qh1r', 'upload_callback': <function run_eval.<locals>.process_datapoint.<locals>.upload_callback at 0x175605430>, 'file_id': 'fl_f1LKeioSdpBr6vUXfFMgQ', 'run_id': 'rn_0Pg7ctzQY42KOrFw1yB4Q', 'path': 'Evaluations SDK Demo/MedQA Answer Flow'}\n",
      "HEY {'source_datapoint_id': 'dp_30Cl31UXInRI8ofyUnoBFQqiyzb', 'upload_callback': <function run_eval.<locals>.process_datapoint.<locals>.upload_callback at 0x3144fad30>, 'file_id': 'fl_f1LKeioSdpBr6vUXfFMgQ', 'run_id': 'rn_0Pg7ctzQY42KOrFw1yB4Q', 'path': 'Evaluations SDK Demo/MedQA Answer Flow'}\n",
      "HEY {'source_datapoint_id': 'dp_30Cl31UXInRI8ofyUnoBFQqiyzb', 'upload_callback': <function run_eval.<locals>.process_datapoint.<locals>.upload_callback at 0x3144fad30>, 'file_id': 'fl_f1LKeioSdpBr6vUXfFMgQ', 'run_id': 'rn_0Pg7ctzQY42KOrFw1yB4Q', 'path': 'Evaluations SDK Demo/MedQA Answer Flow'}\n",
      "HEY {'source_datapoint_id': 'dp_XPVmR21ZI83ozubEDl158Yzynae', 'upload_callback': <function run_eval.<locals>.process_datapoint.<locals>.upload_callback at 0x3154d13a0>, 'file_id': 'fl_f1LKeioSdpBr6vUXfFMgQ', 'run_id': 'rn_0Pg7ctzQY42KOrFw1yB4Q', 'path': 'Evaluations SDK Demo/MedQA Answer Flow'}\n",
      "HEY {'source_datapoint_id': 'dp_45KUmhhJS7HVQvZLEJigzqvEcvV', 'upload_callback': <function run_eval.<locals>.process_datapoint.<locals>.upload_callback at 0x17560ce50>, 'file_id': 'fl_f1LKeioSdpBr6vUXfFMgQ', 'run_id': 'rn_0Pg7ctzQY42KOrFw1yB4Q', 'path': 'Evaluations SDK Demo/MedQA Answer Flow'}\n",
      "HEY {'source_datapoint_id': 'dp_45KUmhhJS7HVQvZLEJigzqvEcvV', 'upload_callback': <function run_eval.<locals>.process_datapoint.<locals>.upload_callback at 0x17560ce50>, 'file_id': 'fl_f1LKeioSdpBr6vUXfFMgQ', 'run_id': 'rn_0Pg7ctzQY42KOrFw1yB4Q', 'path': 'Evaluations SDK Demo/MedQA Answer Flow'}\n",
      "HEY {'source_datapoint_id': 'dp_FHM7An8o6R44BqpD6J76J1Gnd3Y', 'upload_callback': <function run_eval.<locals>.process_datapoint.<locals>.upload_callback at 0x175f25430>, 'file_id': 'fl_f1LKeioSdpBr6vUXfFMgQ', 'run_id': 'rn_0Pg7ctzQY42KOrFw1yB4Q', 'path': 'Evaluations SDK Demo/MedQA Answer Flow'}\n",
      "HEY {'source_datapoint_id': 'dp_LvlYMJxdrO6n5oVARTgwydL5b8N', 'upload_callback': <function run_eval.<locals>.process_datapoint.<locals>.upload_callback at 0x3154bd820>, 'file_id': 'fl_f1LKeioSdpBr6vUXfFMgQ', 'run_id': 'rn_0Pg7ctzQY42KOrFw1yB4Q', 'path': 'Evaluations SDK Demo/MedQA Answer Flow'}\n",
      "HEY {'source_datapoint_id': 'dp_LvlYMJxdrO6n5oVARTgwydL5b8N', 'upload_callback': <function run_eval.<locals>.process_datapoint.<locals>.upload_callback at 0x3154bd820>, 'file_id': 'fl_f1LKeioSdpBr6vUXfFMgQ', 'run_id': 'rn_0Pg7ctzQY42KOrFw1yB4Q', 'path': 'Evaluations SDK Demo/MedQA Answer Flow'}\n",
      "HEY {'source_datapoint_id': 'dp_HUUOl3gfRbqOUvWtB31MhDG223i', 'upload_callback': <function run_eval.<locals>.process_datapoint.<locals>.upload_callback at 0x175f6ac10>, 'file_id': 'fl_f1LKeioSdpBr6vUXfFMgQ', 'run_id': 'rn_0Pg7ctzQY42KOrFw1yB4Q', 'path': 'Evaluations SDK Demo/MedQA Answer Flow'}\n",
      "HEY {'source_datapoint_id': 'dp_Gv7FrTke3v7NgOYqLqf8DdBFY0O', 'upload_callback': <function run_eval.<locals>.process_datapoint.<locals>.upload_callback at 0x315488e50>, 'file_id': 'fl_f1LKeioSdpBr6vUXfFMgQ', 'run_id': 'rn_0Pg7ctzQY42KOrFw1yB4Q', 'path': 'Evaluations SDK Demo/MedQA Answer Flow'}\n",
      "HEY {'source_datapoint_id': 'dp_Gv7FrTke3v7NgOYqLqf8DdBFY0O', 'upload_callback': <function run_eval.<locals>.process_datapoint.<locals>.upload_callback at 0x315488e50>, 'file_id': 'fl_f1LKeioSdpBr6vUXfFMgQ', 'run_id': 'rn_0Pg7ctzQY42KOrFw1yB4Q', 'path': 'Evaluations SDK Demo/MedQA Answer Flow'}\n",
      "HEY {'source_datapoint_id': 'dp_POZeFB95YuEo3GCnLTrB9zjZufJ', 'upload_callback': <function run_eval.<locals>.process_datapoint.<locals>.upload_callback at 0x314800790>, 'file_id': 'fl_f1LKeioSdpBr6vUXfFMgQ', 'run_id': 'rn_0Pg7ctzQY42KOrFw1yB4Q', 'path': 'Evaluations SDK Demo/MedQA Answer Flow'}\n",
      "HEY {'source_datapoint_id': 'dp_X9HRnEUZ772uROsksL6WZsMfOJV', 'upload_callback': <function run_eval.<locals>.process_datapoint.<locals>.upload_callback at 0x175f0b430>, 'file_id': 'fl_f1LKeioSdpBr6vUXfFMgQ', 'run_id': 'rn_0Pg7ctzQY42KOrFw1yB4Q', 'path': 'Evaluations SDK Demo/MedQA Answer Flow'}\n",
      "HEY {'source_datapoint_id': 'dp_X9HRnEUZ772uROsksL6WZsMfOJV', 'upload_callback': <function run_eval.<locals>.process_datapoint.<locals>.upload_callback at 0x175f0b430>, 'file_id': 'fl_f1LKeioSdpBr6vUXfFMgQ', 'run_id': 'rn_0Pg7ctzQY42KOrFw1yB4Q', 'path': 'Evaluations SDK Demo/MedQA Answer Flow'}\n",
      "HEY {'source_datapoint_id': 'dp_OnEE5NP8CMhnbVFYE6Pfg40jSLy', 'upload_callback': <function run_eval.<locals>.process_datapoint.<locals>.upload_callback at 0x1755e03a0>, 'file_id': 'fl_f1LKeioSdpBr6vUXfFMgQ', 'run_id': 'rn_0Pg7ctzQY42KOrFw1yB4Q', 'path': 'Evaluations SDK Demo/MedQA Answer Flow'}\n",
      "HEY {'source_datapoint_id': 'dp_Vlz2K6t5Q4itwAo4jQvKIy0JVGt', 'upload_callback': <function run_eval.<locals>.process_datapoint.<locals>.upload_callback at 0x175f08280>, 'file_id': 'fl_f1LKeioSdpBr6vUXfFMgQ', 'run_id': 'rn_0Pg7ctzQY42KOrFw1yB4Q', 'path': 'Evaluations SDK Demo/MedQA Answer Flow'}\n",
      "HEY {'source_datapoint_id': 'dp_Vlz2K6t5Q4itwAo4jQvKIy0JVGt', 'upload_callback': <function run_eval.<locals>.process_datapoint.<locals>.upload_callback at 0x175f08280>, 'file_id': 'fl_f1LKeioSdpBr6vUXfFMgQ', 'run_id': 'rn_0Pg7ctzQY42KOrFw1yB4Q', 'path': 'Evaluations SDK Demo/MedQA Answer Flow'}\n",
      "HEY {'source_datapoint_id': 'dp_VNViryXi5jk8iXJqgISZpEX01Jg', 'upload_callback': <function run_eval.<locals>.process_datapoint.<locals>.upload_callback at 0x31480f790>, 'file_id': 'fl_f1LKeioSdpBr6vUXfFMgQ', 'run_id': 'rn_0Pg7ctzQY42KOrFw1yB4Q', 'path': 'Evaluations SDK Demo/MedQA Answer Flow'}\n",
      "HEY {'source_datapoint_id': 'dp_AINWMJYmNoYgz31PafPBms0Qh1r', 'upload_callback': <function run_eval.<locals>.process_datapoint.<locals>.upload_callback at 0x175605430>, 'file_id': 'fl_f1LKeioSdpBr6vUXfFMgQ', 'run_id': 'rn_0Pg7ctzQY42KOrFw1yB4Q', 'path': 'Evaluations SDK Demo/MedQA Answer Flow'}\n",
      "HEY {'source_datapoint_id': 'dp_AINWMJYmNoYgz31PafPBms0Qh1r', 'upload_callback': <function run_eval.<locals>.process_datapoint.<locals>.upload_callback at 0x175605430>, 'file_id': 'fl_f1LKeioSdpBr6vUXfFMgQ', 'run_id': 'rn_0Pg7ctzQY42KOrFw1yB4Q', 'path': 'Evaluations SDK Demo/MedQA Answer Flow'}\n",
      "HEY {'source_datapoint_id': 'dp_FHM7An8o6R44BqpD6J76J1Gnd3Y', 'upload_callback': <function run_eval.<locals>.process_datapoint.<locals>.upload_callback at 0x175f25430>, 'file_id': 'fl_f1LKeioSdpBr6vUXfFMgQ', 'run_id': 'rn_0Pg7ctzQY42KOrFw1yB4Q', 'path': 'Evaluations SDK Demo/MedQA Answer Flow'}\n",
      "HEY {'source_datapoint_id': 'dp_FHM7An8o6R44BqpD6J76J1Gnd3Y', 'upload_callback': <function run_eval.<locals>.process_datapoint.<locals>.upload_callback at 0x175f25430>, 'file_id': 'fl_f1LKeioSdpBr6vUXfFMgQ', 'run_id': 'rn_0Pg7ctzQY42KOrFw1yB4Q', 'path': 'Evaluations SDK Demo/MedQA Answer Flow'}\n",
      "HEY {'source_datapoint_id': 'dp_YsPZGSgf3L8sgX45coHU3WxBHQ3', 'upload_callback': <function run_eval.<locals>.process_datapoint.<locals>.upload_callback at 0x175ef45e0>, 'file_id': 'fl_f1LKeioSdpBr6vUXfFMgQ', 'run_id': 'rn_0Pg7ctzQY42KOrFw1yB4Q', 'path': 'Evaluations SDK Demo/MedQA Answer Flow'}\n",
      "HEY {'source_datapoint_id': 'dp_YsPZGSgf3L8sgX45coHU3WxBHQ3', 'upload_callback': <function run_eval.<locals>.process_datapoint.<locals>.upload_callback at 0x175ef45e0>, 'file_id': 'fl_f1LKeioSdpBr6vUXfFMgQ', 'run_id': 'rn_0Pg7ctzQY42KOrFw1yB4Q', 'path': 'Evaluations SDK Demo/MedQA Answer Flow'}\n",
      "HEY {'source_datapoint_id': 'dp_HUUOl3gfRbqOUvWtB31MhDG223i', 'upload_callback': <function run_eval.<locals>.process_datapoint.<locals>.upload_callback at 0x175f6ac10>, 'file_id': 'fl_f1LKeioSdpBr6vUXfFMgQ', 'run_id': 'rn_0Pg7ctzQY42KOrFw1yB4Q', 'path': 'Evaluations SDK Demo/MedQA Answer Flow'}\n",
      "HEY {'source_datapoint_id': 'dp_HUUOl3gfRbqOUvWtB31MhDG223i', 'upload_callback': <function run_eval.<locals>.process_datapoint.<locals>.upload_callback at 0x175f6ac10>, 'file_id': 'fl_f1LKeioSdpBr6vUXfFMgQ', 'run_id': 'rn_0Pg7ctzQY42KOrFw1yB4Q', 'path': 'Evaluations SDK Demo/MedQA Answer Flow'}\n",
      "HEY {'source_datapoint_id': 'dp_POZeFB95YuEo3GCnLTrB9zjZufJ', 'upload_callback': <function run_eval.<locals>.process_datapoint.<locals>.upload_callback at 0x314800790>, 'file_id': 'fl_f1LKeioSdpBr6vUXfFMgQ', 'run_id': 'rn_0Pg7ctzQY42KOrFw1yB4Q', 'path': 'Evaluations SDK Demo/MedQA Answer Flow'}\n",
      "HEY {'source_datapoint_id': 'dp_POZeFB95YuEo3GCnLTrB9zjZufJ', 'upload_callback': <function run_eval.<locals>.process_datapoint.<locals>.upload_callback at 0x314800790>, 'file_id': 'fl_f1LKeioSdpBr6vUXfFMgQ', 'run_id': 'rn_0Pg7ctzQY42KOrFw1yB4Q', 'path': 'Evaluations SDK Demo/MedQA Answer Flow'}\n",
      "HEY {'source_datapoint_id': 'dp_OnEE5NP8CMhnbVFYE6Pfg40jSLy', 'upload_callback': <function run_eval.<locals>.process_datapoint.<locals>.upload_callback at 0x1755e03a0>, 'file_id': 'fl_f1LKeioSdpBr6vUXfFMgQ', 'run_id': 'rn_0Pg7ctzQY42KOrFw1yB4Q', 'path': 'Evaluations SDK Demo/MedQA Answer Flow'}\n",
      "HEY {'source_datapoint_id': 'dp_OnEE5NP8CMhnbVFYE6Pfg40jSLy', 'upload_callback': <function run_eval.<locals>.process_datapoint.<locals>.upload_callback at 0x1755e03a0>, 'file_id': 'fl_f1LKeioSdpBr6vUXfFMgQ', 'run_id': 'rn_0Pg7ctzQY42KOrFw1yB4Q', 'path': 'Evaluations SDK Demo/MedQA Answer Flow'}\n",
      "HEY {'source_datapoint_id': 'dp_XPVmR21ZI83ozubEDl158Yzynae', 'upload_callback': <function run_eval.<locals>.process_datapoint.<locals>.upload_callback at 0x3154d13a0>, 'file_id': 'fl_f1LKeioSdpBr6vUXfFMgQ', 'run_id': 'rn_0Pg7ctzQY42KOrFw1yB4Q', 'path': 'Evaluations SDK Demo/MedQA Answer Flow'}\n",
      "HEY {'source_datapoint_id': 'dp_XPVmR21ZI83ozubEDl158Yzynae', 'upload_callback': <function run_eval.<locals>.process_datapoint.<locals>.upload_callback at 0x3154d13a0>, 'file_id': 'fl_f1LKeioSdpBr6vUXfFMgQ', 'run_id': 'rn_0Pg7ctzQY42KOrFw1yB4Q', 'path': 'Evaluations SDK Demo/MedQA Answer Flow'}\n",
      "HEY {'source_datapoint_id': 'dp_VNViryXi5jk8iXJqgISZpEX01Jg', 'upload_callback': <function run_eval.<locals>.process_datapoint.<locals>.upload_callback at 0x31480f790>, 'file_id': 'fl_f1LKeioSdpBr6vUXfFMgQ', 'run_id': 'rn_0Pg7ctzQY42KOrFw1yB4Q', 'path': 'Evaluations SDK Demo/MedQA Answer Flow'}\n",
      "HEY {'source_datapoint_id': 'dp_VNViryXi5jk8iXJqgISZpEX01Jg', 'upload_callback': <function run_eval.<locals>.process_datapoint.<locals>.upload_callback at 0x31480f790>, 'file_id': 'fl_f1LKeioSdpBr6vUXfFMgQ', 'run_id': 'rn_0Pg7ctzQY42KOrFw1yB4Q', 'path': 'Evaluations SDK Demo/MedQA Answer Flow'}\n"
     ]
    },
    {
     "name": "stderr",
     "output_type": "stream",
     "text": [
      "[########################################] 20/20 (100.00%) | DONE1ss\n"
     ]
    },
    {
     "name": "stderr",
     "output_type": "stream",
     "text": [
      "\n",
      "\u001b[96m⏳ Evaluation Progress\u001b[0m\n",
      "Total Logs: 71\n",
      "Total Judgments: 139\n",
      "\n",
      "\n",
      "\n",
      "\u001b[96m⏳ Evaluation Progress\u001b[0m\n",
      "Total Logs: 75\n",
      "Total Judgments: 148\n",
      "\n",
      "\n",
      "\n",
      "\u001b[96m⏳ Evaluation Progress\u001b[0m\n",
      "Total Logs: 79\n",
      "Total Judgments: 156\n",
      "\n",
      "\n",
      "\n",
      "\u001b[96m⏳ Evaluation Progress\u001b[0m\n",
      "Total Logs: 80\n",
      "Total Judgments: 160\n",
      "\n",
      "\n",
      "\n",
      "\u001b[96m📊 Evaluation Results for Evaluations SDK Demo/MedQA Answer Flow \u001b[0m\n",
      "+----------------------------------+---------------------+---------------------+\n",
      "|                                  |       Control       |        Latest       |\n",
      "+----------------------------------+---------------------+---------------------+\n",
      "|                           Run ID |        ZS3HR        |        0Pg7c        |\n",
      "+----------------------------------+---------------------+---------------------+\n",
      "|                       Version ID |         None        |         None        |\n",
      "+----------------------------------+---------------------+---------------------+\n",
      "|                            Added | 2024-11-11 14:11:30 | 2024-11-11 14:46:33 |\n",
      "+----------------------------------+---------------------+---------------------+\n",
      "|                       Evaluators |                     |                     |\n",
      "+----------------------------------+---------------------+---------------------+\n",
      "| Evaluations SDK Demo/Levenshtein |         5.45        |         5.45        |\n",
      "| Evaluations SDK Demo/Exact Match |         0.8         |         0.8         |\n",
      "+----------------------------------+---------------------+---------------------+\n",
      "\n",
      "\n"
     ]
    },
    {
     "ename": "ValueError",
     "evalue": "Unsupported Evaluator Stat type: <class 'humanloop.types.text_evaluator_stats_response.TextEvaluatorStatsResponse'>",
     "output_type": "error",
     "traceback": [
      "\u001b[0;31m---------------------------------------------------------------------------\u001b[0m",
      "\u001b[0;31mValueError\u001b[0m                                Traceback (most recent call last)",
      "Cell \u001b[0;32mIn[7], line 1\u001b[0m\n\u001b[0;32m----> 1\u001b[0m \u001b[43mhumanloop\u001b[49m\u001b[38;5;241;43m.\u001b[39;49m\u001b[43mevaluations\u001b[49m\u001b[38;5;241;43m.\u001b[39;49m\u001b[43mrun\u001b[49m\u001b[43m(\u001b[49m\n\u001b[1;32m      2\u001b[0m \u001b[43m    \u001b[49m\u001b[43mfile\u001b[49m\u001b[38;5;241;43m=\u001b[39;49m\u001b[43m{\u001b[49m\n\u001b[1;32m      3\u001b[0m \u001b[43m        \u001b[49m\u001b[38;5;124;43m\"\u001b[39;49m\u001b[38;5;124;43mpath\u001b[39;49m\u001b[38;5;124;43m\"\u001b[39;49m\u001b[43m:\u001b[49m\u001b[43m \u001b[49m\u001b[38;5;124;43m\"\u001b[39;49m\u001b[38;5;124;43mEvaluations SDK Demo/MedQA Answer Flow\u001b[39;49m\u001b[38;5;124;43m\"\u001b[39;49m\u001b[43m,\u001b[49m\n\u001b[1;32m      4\u001b[0m \u001b[43m        \u001b[49m\u001b[38;5;124;43m\"\u001b[39;49m\u001b[38;5;124;43mcallable\u001b[39;49m\u001b[38;5;124;43m\"\u001b[39;49m\u001b[43m:\u001b[49m\u001b[43m \u001b[49m\u001b[43mentrypoint\u001b[49m\u001b[43m,\u001b[49m\n\u001b[1;32m      5\u001b[0m \u001b[43m        \u001b[49m\u001b[38;5;124;43m\"\u001b[39;49m\u001b[38;5;124;43mtype\u001b[39;49m\u001b[38;5;124;43m\"\u001b[39;49m\u001b[43m:\u001b[49m\u001b[43m \u001b[49m\u001b[38;5;124;43m\"\u001b[39;49m\u001b[38;5;124;43mflow\u001b[39;49m\u001b[38;5;124;43m\"\u001b[39;49m\u001b[43m,\u001b[49m\n\u001b[1;32m      6\u001b[0m \u001b[43m    \u001b[49m\u001b[43m}\u001b[49m\u001b[43m,\u001b[49m\n\u001b[1;32m      7\u001b[0m \u001b[43m    \u001b[49m\u001b[43mname\u001b[49m\u001b[38;5;241;43m=\u001b[39;49m\u001b[38;5;124;43m\"\u001b[39;49m\u001b[38;5;124;43mMedQA Evaluation Decorators\u001b[39;49m\u001b[38;5;124;43m\"\u001b[39;49m\u001b[43m,\u001b[49m\n\u001b[1;32m      8\u001b[0m \u001b[43m    \u001b[49m\u001b[43mdataset\u001b[49m\u001b[38;5;241;43m=\u001b[39;49m\u001b[43m{\u001b[49m\n\u001b[1;32m      9\u001b[0m \u001b[43m        \u001b[49m\u001b[38;5;124;43m\"\u001b[39;49m\u001b[38;5;124;43mdatapoints\u001b[39;49m\u001b[38;5;124;43m\"\u001b[39;49m\u001b[43m:\u001b[49m\u001b[43m \u001b[49m\u001b[43mdatapoints\u001b[49m\u001b[43m,\u001b[49m\n\u001b[1;32m     10\u001b[0m \u001b[43m        \u001b[49m\u001b[38;5;124;43m\"\u001b[39;49m\u001b[38;5;124;43mpath\u001b[39;49m\u001b[38;5;124;43m\"\u001b[39;49m\u001b[43m:\u001b[49m\u001b[43m \u001b[49m\u001b[38;5;124;43m\"\u001b[39;49m\u001b[38;5;124;43mEvaluations SDK Demo/Dataset\u001b[39;49m\u001b[38;5;124;43m\"\u001b[39;49m\u001b[43m,\u001b[49m\n\u001b[1;32m     11\u001b[0m \u001b[43m    \u001b[49m\u001b[43m}\u001b[49m\u001b[43m,\u001b[49m\n\u001b[1;32m     12\u001b[0m \u001b[43m    \u001b[49m\u001b[43mevaluators\u001b[49m\u001b[38;5;241;43m=\u001b[39;49m\u001b[43m[\u001b[49m\n\u001b[1;32m     13\u001b[0m \u001b[43m        \u001b[49m\u001b[43m{\u001b[49m\n\u001b[1;32m     14\u001b[0m \u001b[43m            \u001b[49m\u001b[38;5;124;43m\"\u001b[39;49m\u001b[38;5;124;43mpath\u001b[39;49m\u001b[38;5;124;43m\"\u001b[39;49m\u001b[43m:\u001b[49m\u001b[43m \u001b[49m\u001b[38;5;124;43m\"\u001b[39;49m\u001b[38;5;124;43mEvaluations SDK Demo/Levenshtein\u001b[39;49m\u001b[38;5;124;43m\"\u001b[39;49m\u001b[43m,\u001b[49m\n\u001b[1;32m     15\u001b[0m \u001b[43m            \u001b[49m\u001b[38;5;124;43m\"\u001b[39;49m\u001b[38;5;124;43margs_type\u001b[39;49m\u001b[38;5;124;43m\"\u001b[39;49m\u001b[43m:\u001b[49m\u001b[43m \u001b[49m\u001b[38;5;124;43m\"\u001b[39;49m\u001b[38;5;124;43mtarget_required\u001b[39;49m\u001b[38;5;124;43m\"\u001b[39;49m\u001b[43m,\u001b[49m\n\u001b[1;32m     16\u001b[0m \u001b[43m            \u001b[49m\u001b[38;5;124;43m\"\u001b[39;49m\u001b[38;5;124;43mreturn_type\u001b[39;49m\u001b[38;5;124;43m\"\u001b[39;49m\u001b[43m:\u001b[49m\u001b[43m \u001b[49m\u001b[38;5;124;43m\"\u001b[39;49m\u001b[38;5;124;43mnumber\u001b[39;49m\u001b[38;5;124;43m\"\u001b[39;49m\u001b[43m,\u001b[49m\n\u001b[1;32m     17\u001b[0m \u001b[43m            \u001b[49m\u001b[38;5;124;43m\"\u001b[39;49m\u001b[38;5;124;43mcallable\u001b[39;49m\u001b[38;5;124;43m\"\u001b[39;49m\u001b[43m:\u001b[49m\u001b[43m \u001b[49m\u001b[43mcompare_log_and_target\u001b[49m\u001b[43m,\u001b[49m\n\u001b[1;32m     18\u001b[0m \u001b[43m        \u001b[49m\u001b[43m}\u001b[49m\u001b[43m,\u001b[49m\n\u001b[1;32m     19\u001b[0m \u001b[43m        \u001b[49m\u001b[43m{\u001b[49m\n\u001b[1;32m     20\u001b[0m \u001b[43m            \u001b[49m\u001b[38;5;124;43m\"\u001b[39;49m\u001b[38;5;124;43mpath\u001b[39;49m\u001b[38;5;124;43m\"\u001b[39;49m\u001b[43m:\u001b[49m\u001b[43m \u001b[49m\u001b[38;5;124;43m\"\u001b[39;49m\u001b[38;5;124;43mEvaluations SDK Demo/Exact Match\u001b[39;49m\u001b[38;5;124;43m\"\u001b[39;49m\u001b[43m,\u001b[49m\n\u001b[1;32m     21\u001b[0m \u001b[43m            \u001b[49m\u001b[38;5;124;43m\"\u001b[39;49m\u001b[38;5;124;43margs_type\u001b[39;49m\u001b[38;5;124;43m\"\u001b[39;49m\u001b[43m:\u001b[49m\u001b[43m \u001b[49m\u001b[38;5;124;43m\"\u001b[39;49m\u001b[38;5;124;43mtarget_required\u001b[39;49m\u001b[38;5;124;43m\"\u001b[39;49m\u001b[43m,\u001b[49m\n\u001b[1;32m     22\u001b[0m \u001b[43m            \u001b[49m\u001b[38;5;124;43m\"\u001b[39;49m\u001b[38;5;124;43mreturn_type\u001b[39;49m\u001b[38;5;124;43m\"\u001b[39;49m\u001b[43m:\u001b[49m\u001b[43m \u001b[49m\u001b[38;5;124;43m\"\u001b[39;49m\u001b[38;5;124;43mboolean\u001b[39;49m\u001b[38;5;124;43m\"\u001b[39;49m\u001b[43m,\u001b[49m\n\u001b[1;32m     23\u001b[0m \u001b[43m            \u001b[49m\u001b[38;5;124;43m\"\u001b[39;49m\u001b[38;5;124;43mcallable\u001b[39;49m\u001b[38;5;124;43m\"\u001b[39;49m\u001b[43m:\u001b[49m\u001b[43m \u001b[49m\u001b[43mexact_match\u001b[49m\u001b[43m,\u001b[49m\n\u001b[1;32m     24\u001b[0m \u001b[43m        \u001b[49m\u001b[43m}\u001b[49m\u001b[43m,\u001b[49m\n\u001b[1;32m     25\u001b[0m \u001b[43m    \u001b[49m\u001b[43m]\u001b[49m\u001b[43m,\u001b[49m\n\u001b[1;32m     26\u001b[0m \u001b[43m    \u001b[49m\u001b[43mworkers\u001b[49m\u001b[38;5;241;43m=\u001b[39;49m\u001b[38;5;241;43m8\u001b[39;49m\u001b[43m,\u001b[49m\n\u001b[1;32m     27\u001b[0m \u001b[43m)\u001b[49m\n",
      "File \u001b[0;32m~/Desktop/humanloop-python/src/humanloop/client.py:71\u001b[0m, in \u001b[0;36mExtendedEvalsClient.run\u001b[0;34m(self, file, name, dataset, evaluators, workers)\u001b[0m\n\u001b[1;32m     68\u001b[0m \u001b[38;5;28;01mif\u001b[39;00m \u001b[38;5;28mself\u001b[39m\u001b[38;5;241m.\u001b[39mclient \u001b[38;5;129;01mis\u001b[39;00m \u001b[38;5;28;01mNone\u001b[39;00m:\n\u001b[1;32m     69\u001b[0m     \u001b[38;5;28;01mraise\u001b[39;00m \u001b[38;5;167;01mValueError\u001b[39;00m(\u001b[38;5;124m\"\u001b[39m\u001b[38;5;124mNeed Humanloop client defined to run evals\u001b[39m\u001b[38;5;124m\"\u001b[39m)\n\u001b[0;32m---> 71\u001b[0m \u001b[38;5;28;01mreturn\u001b[39;00m \u001b[43mrun_eval\u001b[49m\u001b[43m(\u001b[49m\n\u001b[1;32m     72\u001b[0m \u001b[43m    \u001b[49m\u001b[43mclient\u001b[49m\u001b[38;5;241;43m=\u001b[39;49m\u001b[38;5;28;43mself\u001b[39;49m\u001b[38;5;241;43m.\u001b[39;49m\u001b[43mclient\u001b[49m\u001b[43m,\u001b[49m\n\u001b[1;32m     73\u001b[0m \u001b[43m    \u001b[49m\u001b[43mfile\u001b[49m\u001b[38;5;241;43m=\u001b[39;49m\u001b[43mfile\u001b[49m\u001b[43m,\u001b[49m\n\u001b[1;32m     74\u001b[0m \u001b[43m    \u001b[49m\u001b[43mname\u001b[49m\u001b[38;5;241;43m=\u001b[39;49m\u001b[43mname\u001b[49m\u001b[43m,\u001b[49m\n\u001b[1;32m     75\u001b[0m \u001b[43m    \u001b[49m\u001b[43mdataset\u001b[49m\u001b[38;5;241;43m=\u001b[39;49m\u001b[43mdataset\u001b[49m\u001b[43m,\u001b[49m\n\u001b[1;32m     76\u001b[0m \u001b[43m    \u001b[49m\u001b[43mevaluators\u001b[49m\u001b[38;5;241;43m=\u001b[39;49m\u001b[43mevaluators\u001b[49m\u001b[43m,\u001b[49m\n\u001b[1;32m     77\u001b[0m \u001b[43m    \u001b[49m\u001b[43mworkers\u001b[49m\u001b[38;5;241;43m=\u001b[39;49m\u001b[43mworkers\u001b[49m\u001b[43m,\u001b[49m\n\u001b[1;32m     78\u001b[0m \u001b[43m    \u001b[49m\u001b[43mevaluation_context_variable\u001b[49m\u001b[38;5;241;43m=\u001b[39;49m\u001b[38;5;28;43mself\u001b[39;49m\u001b[38;5;241;43m.\u001b[39;49m\u001b[43m_evaluation_context_variable\u001b[49m\u001b[43m,\u001b[49m\n\u001b[1;32m     79\u001b[0m \u001b[43m\u001b[49m\u001b[43m)\u001b[49m\n",
      "File \u001b[0;32m~/Desktop/humanloop-python/src/humanloop/eval_utils/run.py:548\u001b[0m, in \u001b[0;36mrun_eval\u001b[0;34m(client, file, name, dataset, evaluation_context_variable, evaluators, workers)\u001b[0m\n\u001b[1;32m    546\u001b[0m \u001b[38;5;28;01mif\u001b[39;00m \u001b[38;5;28many\u001b[39m(evaluator\u001b[38;5;241m.\u001b[39mget(\u001b[38;5;124m\"\u001b[39m\u001b[38;5;124mthreshold\u001b[39m\u001b[38;5;124m\"\u001b[39m) \u001b[38;5;129;01mis\u001b[39;00m \u001b[38;5;129;01mnot\u001b[39;00m \u001b[38;5;28;01mNone\u001b[39;00m \u001b[38;5;28;01mfor\u001b[39;00m evaluator \u001b[38;5;129;01min\u001b[39;00m evaluators) \u001b[38;5;129;01mor\u001b[39;00m \u001b[38;5;28mlen\u001b[39m(stats\u001b[38;5;241m.\u001b[39mrun_stats) \u001b[38;5;241m>\u001b[39m \u001b[38;5;241m1\u001b[39m:  \u001b[38;5;66;03m# type: ignore\u001b[39;00m\n\u001b[1;32m    547\u001b[0m     \u001b[38;5;28;01mfor\u001b[39;00m evaluator \u001b[38;5;129;01min\u001b[39;00m evaluators:  \u001b[38;5;66;03m# type: ignore\u001b[39;00m\n\u001b[0;32m--> 548\u001b[0m         score, delta \u001b[38;5;241m=\u001b[39m \u001b[43m_check_evaluation_improvement\u001b[49m\u001b[43m(\u001b[49m\n\u001b[1;32m    549\u001b[0m \u001b[43m            \u001b[49m\u001b[43mevaluation\u001b[49m\u001b[38;5;241;43m=\u001b[39;49m\u001b[43mevaluation\u001b[49m\u001b[43m,\u001b[49m\n\u001b[1;32m    550\u001b[0m \u001b[43m            \u001b[49m\u001b[43mstats\u001b[49m\u001b[38;5;241;43m=\u001b[39;49m\u001b[43mstats\u001b[49m\u001b[43m,\u001b[49m\n\u001b[1;32m    551\u001b[0m \u001b[43m            \u001b[49m\u001b[43mevaluator_path\u001b[49m\u001b[38;5;241;43m=\u001b[39;49m\u001b[43mevaluator\u001b[49m\u001b[43m[\u001b[49m\u001b[38;5;124;43m\"\u001b[39;49m\u001b[38;5;124;43mpath\u001b[39;49m\u001b[38;5;124;43m\"\u001b[39;49m\u001b[43m]\u001b[49m\u001b[43m,\u001b[49m\n\u001b[1;32m    552\u001b[0m \u001b[43m            \u001b[49m\u001b[43mrun_id\u001b[49m\u001b[38;5;241;43m=\u001b[39;49m\u001b[43mrun_id\u001b[49m\u001b[43m,\u001b[49m\n\u001b[1;32m    553\u001b[0m \u001b[43m        \u001b[49m\u001b[43m)\u001b[49m[\u001b[38;5;241m1\u001b[39m:]\n\u001b[1;32m    554\u001b[0m         threshold_check \u001b[38;5;241m=\u001b[39m \u001b[38;5;28;01mNone\u001b[39;00m\n\u001b[1;32m    555\u001b[0m         threshold \u001b[38;5;241m=\u001b[39m evaluator\u001b[38;5;241m.\u001b[39mget(\u001b[38;5;124m\"\u001b[39m\u001b[38;5;124mthreshold\u001b[39m\u001b[38;5;124m\"\u001b[39m)\n",
      "File \u001b[0;32m~/Desktop/humanloop-python/src/humanloop/eval_utils/run.py:702\u001b[0m, in \u001b[0;36m_check_evaluation_improvement\u001b[0;34m(evaluation, evaluator_path, stats, run_id)\u001b[0m\n\u001b[1;32m    700\u001b[0m previous_evaluator_stat \u001b[38;5;241m=\u001b[39m previous_evaluator_stats_by_path[evaluator_path]\n\u001b[1;32m    701\u001b[0m latest_score \u001b[38;5;241m=\u001b[39m _get_score_from_evaluator_stat(stat\u001b[38;5;241m=\u001b[39mlatest_evaluator_stat)\n\u001b[0;32m--> 702\u001b[0m previous_score \u001b[38;5;241m=\u001b[39m \u001b[43m_get_score_from_evaluator_stat\u001b[49m\u001b[43m(\u001b[49m\u001b[43mstat\u001b[49m\u001b[38;5;241;43m=\u001b[39;49m\u001b[43mprevious_evaluator_stat\u001b[49m\u001b[43m)\u001b[49m\n\u001b[1;32m    703\u001b[0m \u001b[38;5;28;01mif\u001b[39;00m latest_score \u001b[38;5;129;01mis\u001b[39;00m \u001b[38;5;28;01mNone\u001b[39;00m \u001b[38;5;129;01mor\u001b[39;00m previous_score \u001b[38;5;129;01mis\u001b[39;00m \u001b[38;5;28;01mNone\u001b[39;00m:\n\u001b[1;32m    704\u001b[0m     \u001b[38;5;28;01mraise\u001b[39;00m \u001b[38;5;167;01mValueError\u001b[39;00m(\u001b[38;5;124mf\u001b[39m\u001b[38;5;124m\"\u001b[39m\u001b[38;5;124mCould not find score for Evaluator \u001b[39m\u001b[38;5;132;01m{\u001b[39;00mevaluator_path\u001b[38;5;132;01m}\u001b[39;00m\u001b[38;5;124m.\u001b[39m\u001b[38;5;124m\"\u001b[39m)\n",
      "File \u001b[0;32m~/Desktop/humanloop-python/src/humanloop/eval_utils/run.py:619\u001b[0m, in \u001b[0;36m_get_score_from_evaluator_stat\u001b[0;34m(stat)\u001b[0m\n\u001b[1;32m    617\u001b[0m     score \u001b[38;5;241m=\u001b[39m \u001b[38;5;28mround\u001b[39m(stat\u001b[38;5;241m.\u001b[39mmean, \u001b[38;5;241m2\u001b[39m)  \u001b[38;5;66;03m# type: ignore\u001b[39;00m\n\u001b[1;32m    618\u001b[0m \u001b[38;5;28;01melse\u001b[39;00m:\n\u001b[0;32m--> 619\u001b[0m     \u001b[38;5;28;01mraise\u001b[39;00m \u001b[38;5;167;01mValueError\u001b[39;00m(\u001b[38;5;124mf\u001b[39m\u001b[38;5;124m\"\u001b[39m\u001b[38;5;124mUnsupported Evaluator Stat type: \u001b[39m\u001b[38;5;132;01m{\u001b[39;00m\u001b[38;5;28mtype\u001b[39m(stat)\u001b[38;5;132;01m}\u001b[39;00m\u001b[38;5;124m\"\u001b[39m)\n\u001b[1;32m    620\u001b[0m \u001b[38;5;28;01mreturn\u001b[39;00m score\n",
      "\u001b[0;31mValueError\u001b[0m: Unsupported Evaluator Stat type: <class 'humanloop.types.text_evaluator_stats_response.TextEvaluatorStatsResponse'>"
     ]
    }
   ],
   "source": [
    "humanloop.evaluations.run(\n",
    "    file={\n",
    "        \"path\": \"Evaluations SDK Demo/MedQA Answer Flow\",\n",
    "        \"callable\": entrypoint,\n",
    "        \"type\": \"flow\",\n",
    "    },\n",
    "    name=\"MedQA Evaluation Decorators\",\n",
    "    dataset={\n",
    "        \"datapoints\": datapoints,\n",
    "        \"path\": \"Evaluations SDK Demo/Dataset\",\n",
    "    },\n",
    "    evaluators=[\n",
    "        {\n",
    "            \"path\": \"Evaluations SDK Demo/Levenshtein\",\n",
    "            \"args_type\": \"target_required\",\n",
    "            \"return_type\": \"number\",\n",
    "            \"callable\": compare_log_and_target,\n",
    "        },\n",
    "        {\n",
    "            \"path\": \"Evaluations SDK Demo/Exact Match\",\n",
    "            \"args_type\": \"target_required\",\n",
    "            \"return_type\": \"boolean\",\n",
    "            \"callable\": exact_match,\n",
    "        },\n",
    "    ],\n",
    "    workers=8,\n",
    ")"
   ]
  }
 ],
 "metadata": {
  "kernelspec": {
   "display_name": "humanloop-cookbook-XVtM0WJo-py3.9",
   "language": "python",
   "name": "python3"
  },
  "language_info": {
   "codemirror_mode": {
    "name": "ipython",
    "version": 3
   },
   "file_extension": ".py",
   "mimetype": "text/x-python",
   "name": "python",
   "nbconvert_exporter": "python",
   "pygments_lexer": "ipython3",
   "version": "3.9.20"
  }
 },
 "nbformat": 4,
 "nbformat_minor": 2
}
